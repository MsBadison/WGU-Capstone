{
  "nbformat": 4,
  "nbformat_minor": 0,
  "metadata": {
    "colab": {
      "provenance": [],
      "authorship_tag": "ABX9TyO2Wc45NWJYyj5T4VxIh8xI",
      "include_colab_link": true
    },
    "kernelspec": {
      "name": "python3",
      "display_name": "Python 3"
    },
    "language_info": {
      "name": "python"
    },
    "widgets": {
      "application/vnd.jupyter.widget-state+json": {
        "7cd8d077272c46fe987f728cfed55863": {
          "model_module": "@jupyter-widgets/controls",
          "model_name": "VBoxModel",
          "model_module_version": "1.5.0",
          "state": {
            "_dom_classes": [],
            "_model_module": "@jupyter-widgets/controls",
            "_model_module_version": "1.5.0",
            "_model_name": "VBoxModel",
            "_view_count": null,
            "_view_module": "@jupyter-widgets/controls",
            "_view_module_version": "1.5.0",
            "_view_name": "VBoxView",
            "box_style": "",
            "children": [
              "IPY_MODEL_5847b458873c42ac958f4ab243b1406c",
              "IPY_MODEL_778fbf5ca024468487e6ebd50247bfdd",
              "IPY_MODEL_32e91d5310fe445b89c36a90ac3a4ceb",
              "IPY_MODEL_c6756f3c4aa14ea6b09881a8ef610975"
            ],
            "layout": "IPY_MODEL_d3f0645c6ccf450dbdc5263db484b4df"
          }
        },
        "5847b458873c42ac958f4ab243b1406c": {
          "model_module": "@jupyter-widgets/controls",
          "model_name": "RadioButtonsModel",
          "model_module_version": "1.5.0",
          "state": {
            "_dom_classes": [],
            "_model_module": "@jupyter-widgets/controls",
            "_model_module_version": "1.5.0",
            "_model_name": "RadioButtonsModel",
            "_options_labels": [
              "Male",
              "Female"
            ],
            "_view_count": null,
            "_view_module": "@jupyter-widgets/controls",
            "_view_module_version": "1.5.0",
            "_view_name": "RadioButtonsView",
            "description": "Sex",
            "description_tooltip": null,
            "disabled": false,
            "index": 1,
            "layout": "IPY_MODEL_e04e49d1bc6e4d7b88e45f5729f90463",
            "style": "IPY_MODEL_b731a20d0c534315887581e3d34de552"
          }
        },
        "778fbf5ca024468487e6ebd50247bfdd": {
          "model_module": "@jupyter-widgets/controls",
          "model_name": "IntSliderModel",
          "model_module_version": "1.5.0",
          "state": {
            "_dom_classes": [],
            "_model_module": "@jupyter-widgets/controls",
            "_model_module_version": "1.5.0",
            "_model_name": "IntSliderModel",
            "_view_count": null,
            "_view_module": "@jupyter-widgets/controls",
            "_view_module_version": "1.5.0",
            "_view_name": "IntSliderView",
            "continuous_update": true,
            "description": "Age",
            "description_tooltip": null,
            "disabled": false,
            "layout": "IPY_MODEL_a11f7e81dbea4f3b90b2a12f7cc490be",
            "max": 100,
            "min": 1,
            "orientation": "horizontal",
            "readout": true,
            "readout_format": "d",
            "step": 1,
            "style": "IPY_MODEL_1df7d51f224c4675b3c86a1baa3c0a8a",
            "value": 18
          }
        },
        "32e91d5310fe445b89c36a90ac3a4ceb": {
          "model_module": "@jupyter-widgets/controls",
          "model_name": "IntSliderModel",
          "model_module_version": "1.5.0",
          "state": {
            "_dom_classes": [],
            "_model_module": "@jupyter-widgets/controls",
            "_model_module_version": "1.5.0",
            "_model_name": "IntSliderModel",
            "_view_count": null,
            "_view_module": "@jupyter-widgets/controls",
            "_view_module_version": "1.5.0",
            "_view_name": "IntSliderView",
            "continuous_update": true,
            "description": "Episodes",
            "description_tooltip": null,
            "disabled": false,
            "layout": "IPY_MODEL_249f8518e8b84f5f90930b1774dbff8a",
            "max": 4,
            "min": 1,
            "orientation": "horizontal",
            "readout": true,
            "readout_format": "d",
            "step": 1,
            "style": "IPY_MODEL_a016160767794482a4abda80f144ae78",
            "value": 1
          }
        },
        "c6756f3c4aa14ea6b09881a8ef610975": {
          "model_module": "@jupyter-widgets/controls",
          "model_name": "ButtonModel",
          "model_module_version": "1.5.0",
          "state": {
            "_dom_classes": [],
            "_model_module": "@jupyter-widgets/controls",
            "_model_module_version": "1.5.0",
            "_model_name": "ButtonModel",
            "_view_count": null,
            "_view_module": "@jupyter-widgets/controls",
            "_view_module_version": "1.5.0",
            "_view_name": "ButtonView",
            "button_style": "",
            "description": "Calculate",
            "disabled": false,
            "icon": "",
            "layout": "IPY_MODEL_fa3d0905b13d402daecb8e688cb2bafd",
            "style": "IPY_MODEL_1d3289930fa14c929e4868244af8cbaf",
            "tooltip": ""
          }
        },
        "d3f0645c6ccf450dbdc5263db484b4df": {
          "model_module": "@jupyter-widgets/base",
          "model_name": "LayoutModel",
          "model_module_version": "1.2.0",
          "state": {
            "_model_module": "@jupyter-widgets/base",
            "_model_module_version": "1.2.0",
            "_model_name": "LayoutModel",
            "_view_count": null,
            "_view_module": "@jupyter-widgets/base",
            "_view_module_version": "1.2.0",
            "_view_name": "LayoutView",
            "align_content": null,
            "align_items": null,
            "align_self": null,
            "border": null,
            "bottom": null,
            "display": null,
            "flex": null,
            "flex_flow": null,
            "grid_area": null,
            "grid_auto_columns": null,
            "grid_auto_flow": null,
            "grid_auto_rows": null,
            "grid_column": null,
            "grid_gap": null,
            "grid_row": null,
            "grid_template_areas": null,
            "grid_template_columns": null,
            "grid_template_rows": null,
            "height": null,
            "justify_content": null,
            "justify_items": null,
            "left": null,
            "margin": null,
            "max_height": null,
            "max_width": null,
            "min_height": null,
            "min_width": null,
            "object_fit": null,
            "object_position": null,
            "order": null,
            "overflow": null,
            "overflow_x": null,
            "overflow_y": null,
            "padding": null,
            "right": null,
            "top": null,
            "visibility": null,
            "width": null
          }
        },
        "e04e49d1bc6e4d7b88e45f5729f90463": {
          "model_module": "@jupyter-widgets/base",
          "model_name": "LayoutModel",
          "model_module_version": "1.2.0",
          "state": {
            "_model_module": "@jupyter-widgets/base",
            "_model_module_version": "1.2.0",
            "_model_name": "LayoutModel",
            "_view_count": null,
            "_view_module": "@jupyter-widgets/base",
            "_view_module_version": "1.2.0",
            "_view_name": "LayoutView",
            "align_content": null,
            "align_items": null,
            "align_self": null,
            "border": null,
            "bottom": null,
            "display": null,
            "flex": null,
            "flex_flow": null,
            "grid_area": null,
            "grid_auto_columns": null,
            "grid_auto_flow": null,
            "grid_auto_rows": null,
            "grid_column": null,
            "grid_gap": null,
            "grid_row": null,
            "grid_template_areas": null,
            "grid_template_columns": null,
            "grid_template_rows": null,
            "height": null,
            "justify_content": null,
            "justify_items": null,
            "left": null,
            "margin": null,
            "max_height": null,
            "max_width": null,
            "min_height": null,
            "min_width": null,
            "object_fit": null,
            "object_position": null,
            "order": null,
            "overflow": null,
            "overflow_x": null,
            "overflow_y": null,
            "padding": null,
            "right": null,
            "top": null,
            "visibility": null,
            "width": "max-content"
          }
        },
        "b731a20d0c534315887581e3d34de552": {
          "model_module": "@jupyter-widgets/controls",
          "model_name": "DescriptionStyleModel",
          "model_module_version": "1.5.0",
          "state": {
            "_model_module": "@jupyter-widgets/controls",
            "_model_module_version": "1.5.0",
            "_model_name": "DescriptionStyleModel",
            "_view_count": null,
            "_view_module": "@jupyter-widgets/base",
            "_view_module_version": "1.2.0",
            "_view_name": "StyleView",
            "description_width": ""
          }
        },
        "a11f7e81dbea4f3b90b2a12f7cc490be": {
          "model_module": "@jupyter-widgets/base",
          "model_name": "LayoutModel",
          "model_module_version": "1.2.0",
          "state": {
            "_model_module": "@jupyter-widgets/base",
            "_model_module_version": "1.2.0",
            "_model_name": "LayoutModel",
            "_view_count": null,
            "_view_module": "@jupyter-widgets/base",
            "_view_module_version": "1.2.0",
            "_view_name": "LayoutView",
            "align_content": null,
            "align_items": null,
            "align_self": null,
            "border": null,
            "bottom": null,
            "display": null,
            "flex": null,
            "flex_flow": null,
            "grid_area": null,
            "grid_auto_columns": null,
            "grid_auto_flow": null,
            "grid_auto_rows": null,
            "grid_column": null,
            "grid_gap": null,
            "grid_row": null,
            "grid_template_areas": null,
            "grid_template_columns": null,
            "grid_template_rows": null,
            "height": null,
            "justify_content": null,
            "justify_items": null,
            "left": null,
            "margin": null,
            "max_height": null,
            "max_width": null,
            "min_height": null,
            "min_width": null,
            "object_fit": null,
            "object_position": null,
            "order": null,
            "overflow": null,
            "overflow_x": null,
            "overflow_y": null,
            "padding": null,
            "right": null,
            "top": null,
            "visibility": null,
            "width": null
          }
        },
        "1df7d51f224c4675b3c86a1baa3c0a8a": {
          "model_module": "@jupyter-widgets/controls",
          "model_name": "SliderStyleModel",
          "model_module_version": "1.5.0",
          "state": {
            "_model_module": "@jupyter-widgets/controls",
            "_model_module_version": "1.5.0",
            "_model_name": "SliderStyleModel",
            "_view_count": null,
            "_view_module": "@jupyter-widgets/base",
            "_view_module_version": "1.2.0",
            "_view_name": "StyleView",
            "description_width": "",
            "handle_color": null
          }
        },
        "249f8518e8b84f5f90930b1774dbff8a": {
          "model_module": "@jupyter-widgets/base",
          "model_name": "LayoutModel",
          "model_module_version": "1.2.0",
          "state": {
            "_model_module": "@jupyter-widgets/base",
            "_model_module_version": "1.2.0",
            "_model_name": "LayoutModel",
            "_view_count": null,
            "_view_module": "@jupyter-widgets/base",
            "_view_module_version": "1.2.0",
            "_view_name": "LayoutView",
            "align_content": null,
            "align_items": null,
            "align_self": null,
            "border": null,
            "bottom": null,
            "display": null,
            "flex": null,
            "flex_flow": null,
            "grid_area": null,
            "grid_auto_columns": null,
            "grid_auto_flow": null,
            "grid_auto_rows": null,
            "grid_column": null,
            "grid_gap": null,
            "grid_row": null,
            "grid_template_areas": null,
            "grid_template_columns": null,
            "grid_template_rows": null,
            "height": null,
            "justify_content": null,
            "justify_items": null,
            "left": null,
            "margin": null,
            "max_height": null,
            "max_width": null,
            "min_height": null,
            "min_width": null,
            "object_fit": null,
            "object_position": null,
            "order": null,
            "overflow": null,
            "overflow_x": null,
            "overflow_y": null,
            "padding": null,
            "right": null,
            "top": null,
            "visibility": null,
            "width": null
          }
        },
        "a016160767794482a4abda80f144ae78": {
          "model_module": "@jupyter-widgets/controls",
          "model_name": "SliderStyleModel",
          "model_module_version": "1.5.0",
          "state": {
            "_model_module": "@jupyter-widgets/controls",
            "_model_module_version": "1.5.0",
            "_model_name": "SliderStyleModel",
            "_view_count": null,
            "_view_module": "@jupyter-widgets/base",
            "_view_module_version": "1.2.0",
            "_view_name": "StyleView",
            "description_width": "",
            "handle_color": null
          }
        },
        "fa3d0905b13d402daecb8e688cb2bafd": {
          "model_module": "@jupyter-widgets/base",
          "model_name": "LayoutModel",
          "model_module_version": "1.2.0",
          "state": {
            "_model_module": "@jupyter-widgets/base",
            "_model_module_version": "1.2.0",
            "_model_name": "LayoutModel",
            "_view_count": null,
            "_view_module": "@jupyter-widgets/base",
            "_view_module_version": "1.2.0",
            "_view_name": "LayoutView",
            "align_content": null,
            "align_items": null,
            "align_self": null,
            "border": null,
            "bottom": null,
            "display": null,
            "flex": null,
            "flex_flow": null,
            "grid_area": null,
            "grid_auto_columns": null,
            "grid_auto_flow": null,
            "grid_auto_rows": null,
            "grid_column": null,
            "grid_gap": null,
            "grid_row": null,
            "grid_template_areas": null,
            "grid_template_columns": null,
            "grid_template_rows": null,
            "height": null,
            "justify_content": null,
            "justify_items": null,
            "left": null,
            "margin": null,
            "max_height": null,
            "max_width": null,
            "min_height": null,
            "min_width": null,
            "object_fit": null,
            "object_position": null,
            "order": null,
            "overflow": null,
            "overflow_x": null,
            "overflow_y": null,
            "padding": null,
            "right": null,
            "top": null,
            "visibility": null,
            "width": null
          }
        },
        "1d3289930fa14c929e4868244af8cbaf": {
          "model_module": "@jupyter-widgets/controls",
          "model_name": "ButtonStyleModel",
          "model_module_version": "1.5.0",
          "state": {
            "_model_module": "@jupyter-widgets/controls",
            "_model_module_version": "1.5.0",
            "_model_name": "ButtonStyleModel",
            "_view_count": null,
            "_view_module": "@jupyter-widgets/base",
            "_view_module_version": "1.2.0",
            "_view_name": "StyleView",
            "button_color": null,
            "font_weight": ""
          }
        }
      }
    }
  },
  "cells": [
    {
      "cell_type": "markdown",
      "metadata": {
        "id": "view-in-github",
        "colab_type": "text"
      },
      "source": [
        "<a href=\"https://colab.research.google.com/github/MsBadison/WGU-Capstone/blob/main/Sepsis.ipynb\" target=\"_parent\"><img src=\"https://colab.research.google.com/assets/colab-badge.svg\" alt=\"Open In Colab\"/></a>"
      ]
    },
    {
      "cell_type": "code",
      "execution_count": 19,
      "metadata": {
        "id": "cRhvYgbf08UG",
        "collapsed": true
      },
      "outputs": [],
      "source": [
        "# @title\n",
        "import tensorflow\n",
        "\n",
        "import warnings\n",
        "warnings.filterwarnings(\"ignore\")\n",
        "import io\n",
        "import pandas as pd\n",
        "import matplotlib.pyplot as matPlot\n",
        "from tensorflow.keras.models import Sequential\n",
        "from tensorflow.keras.layers import Dense"
      ]
    },
    {
      "cell_type": "code",
      "source": [
        "# @title\n",
        "dataset = pd.read_csv(\"https://drive.google.com/uc?export=download&id=10iVApqE-lAabAsqspOqiEgHx6I18LVIC\")"
      ],
      "metadata": {
        "id": "PGKgHcgj1FzD"
      },
      "execution_count": 20,
      "outputs": []
    },
    {
      "cell_type": "code",
      "source": [
        "# @title\n",
        "from sklearn.model_selection import train_test_split\n",
        "\n",
        "X = dataset.loc[:, \"age_years\":\"episode_number\"]\n",
        "y = dataset.loc[:, [\"hospital_outcome_1alive_0dead\"]]\n",
        "\n",
        "X_train, X_val_test, y_train, y_val_test = train_test_split(X, y, test_size=0.3, random_state=42)\n",
        "X_val, X_test, y_val, y_test = train_test_split(X_val_test, y_val_test, test_size=0.5, random_state=42)"
      ],
      "metadata": {
        "cellView": "form",
        "id": "qF3rNfyO6f3e"
      },
      "execution_count": 21,
      "outputs": []
    },
    {
      "cell_type": "code",
      "source": [
        "# @title\n",
        "from keras.optimizers import SGD\n",
        "\n",
        "sepsismodel = Sequential()\n",
        "sepsismodel.add(Dense(5, input_shape=(3,), activation=\"relu\"))\n",
        "sepsismodel.add(Dense(3, activation=\"relu\"))\n",
        "sepsismodel.add(Dense(1, activation=\"sigmoid\"))\n",
        "opt = SGD(learning_rate=0.01)\n",
        "sepsismodel.compile(loss=\"binary_crossentropy\", optimizer=opt, metrics=[\"accuracy\"])"
      ],
      "metadata": {
        "cellView": "form",
        "id": "BIOYfHkK6izC"
      },
      "execution_count": 22,
      "outputs": []
    },
    {
      "cell_type": "code",
      "source": [
        "# @title\n",
        "sepsismodel.fit(X_train, y_train, validation_data=(X_val, y_val), epochs = 20, batch_size = 100, verbose = 1)"
      ],
      "metadata": {
        "colab": {
          "base_uri": "https://localhost:8080/"
        },
        "collapsed": true,
        "cellView": "form",
        "id": "gyTrgRN66nmM",
        "outputId": "369bb612-aaca-46e2-ccda-5584ec9f87b1"
      },
      "execution_count": 23,
      "outputs": [
        {
          "output_type": "stream",
          "name": "stdout",
          "text": [
            "Epoch 1/20\n",
            "772/772 [==============================] - 3s 2ms/step - loss: 0.3357 - accuracy: 0.9260 - val_loss: 0.3112 - val_accuracy: 0.9272\n",
            "Epoch 2/20\n",
            "772/772 [==============================] - 2s 2ms/step - loss: 0.3013 - accuracy: 0.9260 - val_loss: 0.2862 - val_accuracy: 0.9272\n",
            "Epoch 3/20\n",
            "772/772 [==============================] - 2s 2ms/step - loss: 0.2856 - accuracy: 0.9260 - val_loss: 0.2761 - val_accuracy: 0.9272\n",
            "Epoch 4/20\n",
            "772/772 [==============================] - 2s 3ms/step - loss: 0.2790 - accuracy: 0.9260 - val_loss: 0.2716 - val_accuracy: 0.9272\n",
            "Epoch 5/20\n",
            "772/772 [==============================] - 2s 3ms/step - loss: 0.2744 - accuracy: 0.9260 - val_loss: 0.2717 - val_accuracy: 0.9272\n",
            "Epoch 6/20\n",
            "772/772 [==============================] - 2s 3ms/step - loss: 0.2712 - accuracy: 0.9260 - val_loss: 0.2678 - val_accuracy: 0.9272\n",
            "Epoch 7/20\n",
            "772/772 [==============================] - 2s 2ms/step - loss: 0.2691 - accuracy: 0.9260 - val_loss: 0.2757 - val_accuracy: 0.9272\n",
            "Epoch 8/20\n",
            "772/772 [==============================] - 2s 2ms/step - loss: 0.2674 - accuracy: 0.9260 - val_loss: 0.2813 - val_accuracy: 0.9272\n",
            "Epoch 9/20\n",
            "772/772 [==============================] - 2s 2ms/step - loss: 0.2658 - accuracy: 0.9260 - val_loss: 0.2623 - val_accuracy: 0.9272\n",
            "Epoch 10/20\n",
            "772/772 [==============================] - 2s 2ms/step - loss: 0.2647 - accuracy: 0.9260 - val_loss: 0.2617 - val_accuracy: 0.9272\n",
            "Epoch 11/20\n",
            "772/772 [==============================] - 2s 3ms/step - loss: 0.2632 - accuracy: 0.9260 - val_loss: 0.2602 - val_accuracy: 0.9272\n",
            "Epoch 12/20\n",
            "772/772 [==============================] - 2s 2ms/step - loss: 0.2619 - accuracy: 0.9260 - val_loss: 0.2729 - val_accuracy: 0.9272\n",
            "Epoch 13/20\n",
            "772/772 [==============================] - 2s 2ms/step - loss: 0.2609 - accuracy: 0.9260 - val_loss: 0.2585 - val_accuracy: 0.9272\n",
            "Epoch 14/20\n",
            "772/772 [==============================] - 2s 2ms/step - loss: 0.2599 - accuracy: 0.9260 - val_loss: 0.2572 - val_accuracy: 0.9272\n",
            "Epoch 15/20\n",
            "772/772 [==============================] - 2s 2ms/step - loss: 0.2591 - accuracy: 0.9260 - val_loss: 0.2566 - val_accuracy: 0.9272\n",
            "Epoch 16/20\n",
            "772/772 [==============================] - 2s 2ms/step - loss: 0.2583 - accuracy: 0.9260 - val_loss: 0.2582 - val_accuracy: 0.9272\n",
            "Epoch 17/20\n",
            "772/772 [==============================] - 2s 2ms/step - loss: 0.2576 - accuracy: 0.9260 - val_loss: 0.2556 - val_accuracy: 0.9272\n",
            "Epoch 18/20\n",
            "772/772 [==============================] - 2s 3ms/step - loss: 0.2572 - accuracy: 0.9260 - val_loss: 0.2607 - val_accuracy: 0.9272\n",
            "Epoch 19/20\n",
            "772/772 [==============================] - 2s 3ms/step - loss: 0.2568 - accuracy: 0.9260 - val_loss: 0.2554 - val_accuracy: 0.9272\n",
            "Epoch 20/20\n",
            "772/772 [==============================] - 2s 2ms/step - loss: 0.2563 - accuracy: 0.9260 - val_loss: 0.2554 - val_accuracy: 0.9272\n"
          ]
        },
        {
          "output_type": "execute_result",
          "data": {
            "text/plain": [
              "<keras.src.callbacks.History at 0x7e35097ba980>"
            ]
          },
          "metadata": {},
          "execution_count": 23
        }
      ]
    },
    {
      "cell_type": "code",
      "source": [
        "# @title\n",
        "loss, accuracy = sepsismodel.evaluate(X_test, y_test)\n",
        "print(\"Test loss:\", loss)\n",
        "print(\"Test accuracy:\", accuracy)"
      ],
      "metadata": {
        "colab": {
          "base_uri": "https://localhost:8080/"
        },
        "id": "_3bw2l4B6pXe",
        "outputId": "c9ed3989-9db4-402e-dd01-4555186265f7"
      },
      "execution_count": 24,
      "outputs": [
        {
          "output_type": "stream",
          "name": "stdout",
          "text": [
            "517/517 [==============================] - 1s 2ms/step - loss: 0.2523 - accuracy: 0.9277\n",
            "Test loss: 0.25225573778152466\n",
            "Test accuracy: 0.9276511073112488\n"
          ]
        }
      ]
    },
    {
      "cell_type": "code",
      "source": [
        "# @title\n",
        "import numpy as np\n",
        "\n",
        "test_data = np.array([[22, 0, 1]])\n",
        "predictions = sepsismodel.predict(test_data)\n",
        "print(predictions * 100)"
      ],
      "metadata": {
        "colab": {
          "base_uri": "https://localhost:8080/"
        },
        "id": "f8rqGNox7jeF",
        "outputId": "13f0739c-d701-4189-bc36-d4beaf065099"
      },
      "execution_count": 25,
      "outputs": [
        {
          "output_type": "stream",
          "name": "stdout",
          "text": [
            "1/1 [==============================] - 0s 81ms/step\n",
            "[[93.48786]]\n"
          ]
        }
      ]
    },
    {
      "cell_type": "code",
      "source": [
        "# @title\n",
        "#!pip install --upgrade ipywidgets\n"
      ],
      "metadata": {
        "collapsed": true,
        "id": "BSvDlIo27u7F"
      },
      "execution_count": 26,
      "outputs": []
    },
    {
      "cell_type": "code",
      "source": [
        "# @title\n",
        "import ipywidgets as widgets\n",
        "\n",
        "def calc_prob(_):\n",
        "  entered_age = int(age_slider.value)\n",
        "  if sex_buttons.value == \"Male\":\n",
        "    entered_sex = int(0)\n",
        "  else:\n",
        "    entered_sex = int(1)\n",
        "  entered_eipsode = int(episode_slider.value)\n",
        "\n",
        "  test_data = np.array([[entered_age, entered_sex, entered_eipsode]])\n",
        "  predictions = sepsismodel.predict(test_data)\n",
        "  print(predictions * 100)\n",
        "\n",
        "sex_buttons = widgets.RadioButtons(\n",
        "    options=[\"Male\", \"Female\"],\n",
        "    value=\"Male\",\n",
        "    layout={'width': 'max-content'},\n",
        "    description=\"Sex\",\n",
        "    disabled=False\n",
        ")\n",
        "\n",
        "age_slider = widgets.IntSlider(description=\"Age\", min=1, max=100, value=50)\n",
        "episode_slider = widgets.IntSlider(description=\"Episodes\", min=1, max=4, value=0)\n",
        "\n",
        "button = widgets.Button(description=\"Calculate\")\n",
        "\n",
        "button.on_click(calc_prob)\n",
        "\n",
        "\n",
        "\n",
        "widgets.VBox([sex_buttons, age_slider, episode_slider, button])\n",
        "\n",
        "\n",
        "\n"
      ],
      "metadata": {
        "colab": {
          "base_uri": "https://localhost:8080/",
          "height": 524,
          "referenced_widgets": [
            "7cd8d077272c46fe987f728cfed55863",
            "5847b458873c42ac958f4ab243b1406c",
            "778fbf5ca024468487e6ebd50247bfdd",
            "32e91d5310fe445b89c36a90ac3a4ceb",
            "c6756f3c4aa14ea6b09881a8ef610975",
            "d3f0645c6ccf450dbdc5263db484b4df",
            "e04e49d1bc6e4d7b88e45f5729f90463",
            "b731a20d0c534315887581e3d34de552",
            "a11f7e81dbea4f3b90b2a12f7cc490be",
            "1df7d51f224c4675b3c86a1baa3c0a8a",
            "249f8518e8b84f5f90930b1774dbff8a",
            "a016160767794482a4abda80f144ae78",
            "fa3d0905b13d402daecb8e688cb2bafd",
            "1d3289930fa14c929e4868244af8cbaf"
          ]
        },
        "id": "-3qzR-wX70Cc",
        "outputId": "532ee056-4aed-45b0-a127-62ab2d661590"
      },
      "execution_count": 35,
      "outputs": [
        {
          "output_type": "display_data",
          "data": {
            "text/plain": [
              "VBox(children=(RadioButtons(description='Sex', layout=Layout(width='max-content'), options=('Male', 'Female'),…"
            ],
            "application/vnd.jupyter.widget-view+json": {
              "version_major": 2,
              "version_minor": 0,
              "model_id": "7cd8d077272c46fe987f728cfed55863"
            }
          },
          "metadata": {}
        },
        {
          "output_type": "stream",
          "name": "stdout",
          "text": [
            "1/1 [==============================] - 0s 19ms/step\n",
            "[[90.448654]]\n",
            "1/1 [==============================] - 0s 21ms/step\n",
            "[[93.35129]]\n",
            "1/1 [==============================] - 0s 21ms/step\n",
            "[[95.41652]]\n",
            "1/1 [==============================] - 0s 19ms/step\n",
            "[[96.86181]]\n",
            "1/1 [==============================] - 0s 19ms/step\n",
            "[[90.448654]]\n",
            "1/1 [==============================] - 0s 18ms/step\n",
            "[[89.16801]]\n",
            "1/1 [==============================] - 0s 21ms/step\n",
            "[[94.06021]]\n",
            "1/1 [==============================] - 0s 21ms/step\n",
            "[[98.03795]]\n",
            "1/1 [==============================] - 0s 19ms/step\n",
            "[[94.06021]]\n",
            "1/1 [==============================] - 0s 19ms/step\n",
            "[[98.03795]]\n"
          ]
        }
      ]
    }
  ]
}