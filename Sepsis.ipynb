{
  "nbformat": 4,
  "nbformat_minor": 0,
  "metadata": {
    "colab": {
      "provenance": [],
      "authorship_tag": "ABX9TyPQAMhB3a8xoLH15CJ5n5OC",
      "include_colab_link": true
    },
    "kernelspec": {
      "name": "python3",
      "display_name": "Python 3"
    },
    "language_info": {
      "name": "python"
    },
    "widgets": {
      "application/vnd.jupyter.widget-state+json": {
        "e66a811dc80f4c83b567a9888a8b29e0": {
          "model_module": "@jupyter-widgets/controls",
          "model_name": "VBoxModel",
          "model_module_version": "2.0.0",
          "state": {
            "_dom_classes": [],
            "_model_module": "@jupyter-widgets/controls",
            "_model_module_version": "2.0.0",
            "_model_name": "VBoxModel",
            "_view_count": null,
            "_view_module": "@jupyter-widgets/controls",
            "_view_module_version": "2.0.0",
            "_view_name": "VBoxView",
            "box_style": "",
            "children": [
              "IPY_MODEL_b696ef9049594739a10b0db16d5903c6",
              "IPY_MODEL_ea8cfbb0065a4478a7fa7d4cbcf2ef3f",
              "IPY_MODEL_ec8e721f6fed4d73bdd092dc8728c62d",
              "IPY_MODEL_d9fdf0f554a0485e8821db0a133d3eb5"
            ],
            "layout": "IPY_MODEL_697fb946a1f04d1dab275990c0e3a2c7",
            "tabbable": null,
            "tooltip": null
          }
        },
        "b696ef9049594739a10b0db16d5903c6": {
          "model_module": "@jupyter-widgets/controls",
          "model_name": "RadioButtonsModel",
          "model_module_version": "2.0.0",
          "state": {
            "_dom_classes": [],
            "_model_module": "@jupyter-widgets/controls",
            "_model_module_version": "2.0.0",
            "_model_name": "RadioButtonsModel",
            "_options_labels": [
              "Male",
              "Female"
            ],
            "_view_count": null,
            "_view_module": "@jupyter-widgets/controls",
            "_view_module_version": "2.0.0",
            "_view_name": "RadioButtonsView",
            "description": "Sex",
            "description_allow_html": false,
            "disabled": false,
            "index": 0,
            "layout": "IPY_MODEL_e8927e22d45546b0a648547c65f30a2f",
            "style": "IPY_MODEL_a3cf839daa9b4411b8e39fcdebc005aa",
            "tabbable": null,
            "tooltip": null
          }
        },
        "ea8cfbb0065a4478a7fa7d4cbcf2ef3f": {
          "model_module": "@jupyter-widgets/controls",
          "model_name": "IntSliderModel",
          "model_module_version": "2.0.0",
          "state": {
            "_dom_classes": [],
            "_model_module": "@jupyter-widgets/controls",
            "_model_module_version": "2.0.0",
            "_model_name": "IntSliderModel",
            "_view_count": null,
            "_view_module": "@jupyter-widgets/controls",
            "_view_module_version": "2.0.0",
            "_view_name": "IntSliderView",
            "behavior": "drag-tap",
            "continuous_update": true,
            "description": "Age",
            "description_allow_html": false,
            "disabled": false,
            "layout": "IPY_MODEL_4219abffc8a544eaad0dfe1139b5a253",
            "max": 100,
            "min": 1,
            "orientation": "horizontal",
            "readout": true,
            "readout_format": "d",
            "step": 1,
            "style": "IPY_MODEL_06b4140a00934405bfe467146a4101de",
            "tabbable": null,
            "tooltip": null,
            "value": 50
          }
        },
        "ec8e721f6fed4d73bdd092dc8728c62d": {
          "model_module": "@jupyter-widgets/controls",
          "model_name": "IntSliderModel",
          "model_module_version": "2.0.0",
          "state": {
            "_dom_classes": [],
            "_model_module": "@jupyter-widgets/controls",
            "_model_module_version": "2.0.0",
            "_model_name": "IntSliderModel",
            "_view_count": null,
            "_view_module": "@jupyter-widgets/controls",
            "_view_module_version": "2.0.0",
            "_view_name": "IntSliderView",
            "behavior": "drag-tap",
            "continuous_update": true,
            "description": "Episodes",
            "description_allow_html": false,
            "disabled": false,
            "layout": "IPY_MODEL_90684b69cdac4456aef24ef7c12b2f69",
            "max": 4,
            "min": 1,
            "orientation": "horizontal",
            "readout": true,
            "readout_format": "d",
            "step": 1,
            "style": "IPY_MODEL_569d101abd8c4994aa89c468899e4705",
            "tabbable": null,
            "tooltip": null,
            "value": 1
          }
        },
        "d9fdf0f554a0485e8821db0a133d3eb5": {
          "model_module": "@jupyter-widgets/controls",
          "model_name": "ButtonModel",
          "model_module_version": "2.0.0",
          "state": {
            "_dom_classes": [],
            "_model_module": "@jupyter-widgets/controls",
            "_model_module_version": "2.0.0",
            "_model_name": "ButtonModel",
            "_view_count": null,
            "_view_module": "@jupyter-widgets/controls",
            "_view_module_version": "2.0.0",
            "_view_name": "ButtonView",
            "button_style": "",
            "description": "Calculate",
            "disabled": false,
            "icon": "",
            "layout": "IPY_MODEL_50782d6f4ca04f3f9fea7f2383833968",
            "style": "IPY_MODEL_fa6380ac88224b73b1d0e39c5c38fb5b",
            "tabbable": null,
            "tooltip": null
          }
        },
        "697fb946a1f04d1dab275990c0e3a2c7": {
          "model_module": "@jupyter-widgets/base",
          "model_name": "LayoutModel",
          "model_module_version": "2.0.0",
          "state": {
            "_model_module": "@jupyter-widgets/base",
            "_model_module_version": "2.0.0",
            "_model_name": "LayoutModel",
            "_view_count": null,
            "_view_module": "@jupyter-widgets/base",
            "_view_module_version": "2.0.0",
            "_view_name": "LayoutView",
            "align_content": null,
            "align_items": null,
            "align_self": null,
            "border_bottom": null,
            "border_left": null,
            "border_right": null,
            "border_top": null,
            "bottom": null,
            "display": null,
            "flex": null,
            "flex_flow": null,
            "grid_area": null,
            "grid_auto_columns": null,
            "grid_auto_flow": null,
            "grid_auto_rows": null,
            "grid_column": null,
            "grid_gap": null,
            "grid_row": null,
            "grid_template_areas": null,
            "grid_template_columns": null,
            "grid_template_rows": null,
            "height": null,
            "justify_content": null,
            "justify_items": null,
            "left": null,
            "margin": null,
            "max_height": null,
            "max_width": null,
            "min_height": null,
            "min_width": null,
            "object_fit": null,
            "object_position": null,
            "order": null,
            "overflow": null,
            "padding": null,
            "right": null,
            "top": null,
            "visibility": null,
            "width": null
          }
        },
        "e8927e22d45546b0a648547c65f30a2f": {
          "model_module": "@jupyter-widgets/base",
          "model_name": "LayoutModel",
          "model_module_version": "2.0.0",
          "state": {
            "_model_module": "@jupyter-widgets/base",
            "_model_module_version": "2.0.0",
            "_model_name": "LayoutModel",
            "_view_count": null,
            "_view_module": "@jupyter-widgets/base",
            "_view_module_version": "2.0.0",
            "_view_name": "LayoutView",
            "align_content": null,
            "align_items": null,
            "align_self": null,
            "border_bottom": null,
            "border_left": null,
            "border_right": null,
            "border_top": null,
            "bottom": null,
            "display": null,
            "flex": null,
            "flex_flow": null,
            "grid_area": null,
            "grid_auto_columns": null,
            "grid_auto_flow": null,
            "grid_auto_rows": null,
            "grid_column": null,
            "grid_gap": null,
            "grid_row": null,
            "grid_template_areas": null,
            "grid_template_columns": null,
            "grid_template_rows": null,
            "height": null,
            "justify_content": null,
            "justify_items": null,
            "left": null,
            "margin": null,
            "max_height": null,
            "max_width": null,
            "min_height": null,
            "min_width": null,
            "object_fit": null,
            "object_position": null,
            "order": null,
            "overflow": null,
            "padding": null,
            "right": null,
            "top": null,
            "visibility": null,
            "width": "max-content"
          }
        },
        "a3cf839daa9b4411b8e39fcdebc005aa": {
          "model_module": "@jupyter-widgets/controls",
          "model_name": "DescriptionStyleModel",
          "model_module_version": "2.0.0",
          "state": {
            "_model_module": "@jupyter-widgets/controls",
            "_model_module_version": "2.0.0",
            "_model_name": "DescriptionStyleModel",
            "_view_count": null,
            "_view_module": "@jupyter-widgets/base",
            "_view_module_version": "2.0.0",
            "_view_name": "StyleView",
            "description_width": ""
          }
        },
        "4219abffc8a544eaad0dfe1139b5a253": {
          "model_module": "@jupyter-widgets/base",
          "model_name": "LayoutModel",
          "model_module_version": "2.0.0",
          "state": {
            "_model_module": "@jupyter-widgets/base",
            "_model_module_version": "2.0.0",
            "_model_name": "LayoutModel",
            "_view_count": null,
            "_view_module": "@jupyter-widgets/base",
            "_view_module_version": "2.0.0",
            "_view_name": "LayoutView",
            "align_content": null,
            "align_items": null,
            "align_self": null,
            "border_bottom": null,
            "border_left": null,
            "border_right": null,
            "border_top": null,
            "bottom": null,
            "display": null,
            "flex": null,
            "flex_flow": null,
            "grid_area": null,
            "grid_auto_columns": null,
            "grid_auto_flow": null,
            "grid_auto_rows": null,
            "grid_column": null,
            "grid_gap": null,
            "grid_row": null,
            "grid_template_areas": null,
            "grid_template_columns": null,
            "grid_template_rows": null,
            "height": null,
            "justify_content": null,
            "justify_items": null,
            "left": null,
            "margin": null,
            "max_height": null,
            "max_width": null,
            "min_height": null,
            "min_width": null,
            "object_fit": null,
            "object_position": null,
            "order": null,
            "overflow": null,
            "padding": null,
            "right": null,
            "top": null,
            "visibility": null,
            "width": null
          }
        },
        "06b4140a00934405bfe467146a4101de": {
          "model_module": "@jupyter-widgets/controls",
          "model_name": "SliderStyleModel",
          "model_module_version": "2.0.0",
          "state": {
            "_model_module": "@jupyter-widgets/controls",
            "_model_module_version": "2.0.0",
            "_model_name": "SliderStyleModel",
            "_view_count": null,
            "_view_module": "@jupyter-widgets/base",
            "_view_module_version": "2.0.0",
            "_view_name": "StyleView",
            "description_width": "",
            "handle_color": null
          }
        },
        "90684b69cdac4456aef24ef7c12b2f69": {
          "model_module": "@jupyter-widgets/base",
          "model_name": "LayoutModel",
          "model_module_version": "2.0.0",
          "state": {
            "_model_module": "@jupyter-widgets/base",
            "_model_module_version": "2.0.0",
            "_model_name": "LayoutModel",
            "_view_count": null,
            "_view_module": "@jupyter-widgets/base",
            "_view_module_version": "2.0.0",
            "_view_name": "LayoutView",
            "align_content": null,
            "align_items": null,
            "align_self": null,
            "border_bottom": null,
            "border_left": null,
            "border_right": null,
            "border_top": null,
            "bottom": null,
            "display": null,
            "flex": null,
            "flex_flow": null,
            "grid_area": null,
            "grid_auto_columns": null,
            "grid_auto_flow": null,
            "grid_auto_rows": null,
            "grid_column": null,
            "grid_gap": null,
            "grid_row": null,
            "grid_template_areas": null,
            "grid_template_columns": null,
            "grid_template_rows": null,
            "height": null,
            "justify_content": null,
            "justify_items": null,
            "left": null,
            "margin": null,
            "max_height": null,
            "max_width": null,
            "min_height": null,
            "min_width": null,
            "object_fit": null,
            "object_position": null,
            "order": null,
            "overflow": null,
            "padding": null,
            "right": null,
            "top": null,
            "visibility": null,
            "width": null
          }
        },
        "569d101abd8c4994aa89c468899e4705": {
          "model_module": "@jupyter-widgets/controls",
          "model_name": "SliderStyleModel",
          "model_module_version": "2.0.0",
          "state": {
            "_model_module": "@jupyter-widgets/controls",
            "_model_module_version": "2.0.0",
            "_model_name": "SliderStyleModel",
            "_view_count": null,
            "_view_module": "@jupyter-widgets/base",
            "_view_module_version": "2.0.0",
            "_view_name": "StyleView",
            "description_width": "",
            "handle_color": null
          }
        },
        "50782d6f4ca04f3f9fea7f2383833968": {
          "model_module": "@jupyter-widgets/base",
          "model_name": "LayoutModel",
          "model_module_version": "2.0.0",
          "state": {
            "_model_module": "@jupyter-widgets/base",
            "_model_module_version": "2.0.0",
            "_model_name": "LayoutModel",
            "_view_count": null,
            "_view_module": "@jupyter-widgets/base",
            "_view_module_version": "2.0.0",
            "_view_name": "LayoutView",
            "align_content": null,
            "align_items": null,
            "align_self": null,
            "border_bottom": null,
            "border_left": null,
            "border_right": null,
            "border_top": null,
            "bottom": null,
            "display": null,
            "flex": null,
            "flex_flow": null,
            "grid_area": null,
            "grid_auto_columns": null,
            "grid_auto_flow": null,
            "grid_auto_rows": null,
            "grid_column": null,
            "grid_gap": null,
            "grid_row": null,
            "grid_template_areas": null,
            "grid_template_columns": null,
            "grid_template_rows": null,
            "height": null,
            "justify_content": null,
            "justify_items": null,
            "left": null,
            "margin": null,
            "max_height": null,
            "max_width": null,
            "min_height": null,
            "min_width": null,
            "object_fit": null,
            "object_position": null,
            "order": null,
            "overflow": null,
            "padding": null,
            "right": null,
            "top": null,
            "visibility": null,
            "width": null
          }
        },
        "fa6380ac88224b73b1d0e39c5c38fb5b": {
          "model_module": "@jupyter-widgets/controls",
          "model_name": "ButtonStyleModel",
          "model_module_version": "2.0.0",
          "state": {
            "_model_module": "@jupyter-widgets/controls",
            "_model_module_version": "2.0.0",
            "_model_name": "ButtonStyleModel",
            "_view_count": null,
            "_view_module": "@jupyter-widgets/base",
            "_view_module_version": "2.0.0",
            "_view_name": "StyleView",
            "button_color": null,
            "font_family": null,
            "font_size": null,
            "font_style": null,
            "font_variant": null,
            "font_weight": null,
            "text_color": null,
            "text_decoration": null
          }
        }
      }
    }
  },
  "cells": [
    {
      "cell_type": "markdown",
      "metadata": {
        "id": "view-in-github",
        "colab_type": "text"
      },
      "source": [
        "<a href=\"https://colab.research.google.com/github/MsBadison/WGU-Capstone/blob/main/Sepsis.ipynb\" target=\"_parent\"><img src=\"https://colab.research.google.com/assets/colab-badge.svg\" alt=\"Open In Colab\"/></a>"
      ]
    },
    {
      "cell_type": "code",
      "execution_count": 35,
      "metadata": {
        "id": "cRhvYgbf08UG",
        "collapsed": true,
        "cellView": "form"
      },
      "outputs": [],
      "source": [
        "# @title\n",
        "##!pip install tensorflow\n",
        "\n",
        "import warnings\n",
        "warnings.filterwarnings(\"ignore\")\n",
        "import io\n",
        "import pandas as pd\n",
        "import matplotlib.pyplot as matPlot\n",
        "##from tensorflow.keras.models import Sequential\n",
        "##from tensorflow.keras.layers import Dense"
      ]
    },
    {
      "cell_type": "code",
      "source": [
        "# @title\n",
        "dataset = pd.read_csv(\"sepsis_primary_cohort.csv\")"
      ],
      "metadata": {
        "id": "PGKgHcgj1FzD",
        "cellView": "form"
      },
      "execution_count": 36,
      "outputs": []
    },
    {
      "cell_type": "code",
      "source": [
        "# @title\n",
        "from sklearn.model_selection import train_test_split\n",
        "\n",
        "X = dataset.loc[:, \"age_years\":\"episode_number\"]\n",
        "y = dataset.loc[:, [\"hospital_outcome_1alive_0dead\"]]\n",
        "\n",
        "X_train, X_val_test, y_train, y_val_test = train_test_split(X, y, test_size=0.3, random_state=42)\n",
        "X_val, X_test, y_val, y_test = train_test_split(X_val_test, y_val_test, test_size=0.5, random_state=42)"
      ],
      "metadata": {
        "cellView": "form",
        "id": "qF3rNfyO6f3e"
      },
      "execution_count": 37,
      "outputs": []
    },
    {
      "cell_type": "code",
      "source": [
        "# @title\n",
        "from keras.optimizers import SGD\n",
        "\n",
        "sepsismodel = Sequential()\n",
        "sepsismodel.add(Dense(5, input_shape=(3,), activation=\"relu\"))\n",
        "sepsismodel.add(Dense(3, activation=\"relu\"))\n",
        "sepsismodel.add(Dense(1, activation=\"sigmoid\"))\n",
        "opt = SGD(learning_rate=0.01)\n",
        "sepsismodel.compile(loss=\"binary_crossentropy\", optimizer=opt, metrics=[\"accuracy\"])"
      ],
      "metadata": {
        "cellView": "form",
        "id": "BIOYfHkK6izC"
      },
      "execution_count": 38,
      "outputs": []
    },
    {
      "cell_type": "code",
      "source": [
        "# @title\n",
        "sepsismodel.fit(X_train, y_train, validation_data=(X_val, y_val), epochs = 20, batch_size = 100, verbose = 1)"
      ],
      "metadata": {
        "colab": {
          "base_uri": "https://localhost:8080/"
        },
        "collapsed": true,
        "cellView": "form",
        "id": "gyTrgRN66nmM",
        "outputId": "312631f8-825d-4fdd-d57b-4867ddf86780"
      },
      "execution_count": 39,
      "outputs": [
        {
          "output_type": "stream",
          "name": "stdout",
          "text": [
            "Epoch 1/20\n",
            "772/772 [==============================] - 3s 3ms/step - loss: 0.4164 - accuracy: 0.9256 - val_loss: 0.3030 - val_accuracy: 0.9272\n",
            "Epoch 2/20\n",
            "772/772 [==============================] - 3s 3ms/step - loss: 0.2840 - accuracy: 0.9260 - val_loss: 0.2700 - val_accuracy: 0.9272\n",
            "Epoch 3/20\n",
            "772/772 [==============================] - 2s 2ms/step - loss: 0.2686 - accuracy: 0.9260 - val_loss: 0.2635 - val_accuracy: 0.9272\n",
            "Epoch 4/20\n",
            "772/772 [==============================] - 2s 2ms/step - loss: 0.2652 - accuracy: 0.9260 - val_loss: 0.2617 - val_accuracy: 0.9272\n",
            "Epoch 5/20\n",
            "772/772 [==============================] - 2s 2ms/step - loss: 0.2642 - accuracy: 0.9260 - val_loss: 0.2611 - val_accuracy: 0.9272\n",
            "Epoch 6/20\n",
            "772/772 [==============================] - 2s 2ms/step - loss: 0.2639 - accuracy: 0.9260 - val_loss: 0.2609 - val_accuracy: 0.9272\n",
            "Epoch 7/20\n",
            "772/772 [==============================] - 2s 2ms/step - loss: 0.2638 - accuracy: 0.9260 - val_loss: 0.2608 - val_accuracy: 0.9272\n",
            "Epoch 8/20\n",
            "772/772 [==============================] - 3s 3ms/step - loss: 0.2638 - accuracy: 0.9260 - val_loss: 0.2608 - val_accuracy: 0.9272\n",
            "Epoch 9/20\n",
            "772/772 [==============================] - 2s 3ms/step - loss: 0.2638 - accuracy: 0.9260 - val_loss: 0.2608 - val_accuracy: 0.9272\n",
            "Epoch 10/20\n",
            "772/772 [==============================] - 2s 2ms/step - loss: 0.2638 - accuracy: 0.9260 - val_loss: 0.2608 - val_accuracy: 0.9272\n",
            "Epoch 11/20\n",
            "772/772 [==============================] - 2s 2ms/step - loss: 0.2638 - accuracy: 0.9260 - val_loss: 0.2608 - val_accuracy: 0.9272\n",
            "Epoch 12/20\n",
            "772/772 [==============================] - 2s 2ms/step - loss: 0.2638 - accuracy: 0.9260 - val_loss: 0.2608 - val_accuracy: 0.9272\n",
            "Epoch 13/20\n",
            "772/772 [==============================] - 2s 2ms/step - loss: 0.2638 - accuracy: 0.9260 - val_loss: 0.2608 - val_accuracy: 0.9272\n",
            "Epoch 14/20\n",
            "772/772 [==============================] - 2s 2ms/step - loss: 0.2638 - accuracy: 0.9260 - val_loss: 0.2608 - val_accuracy: 0.9272\n",
            "Epoch 15/20\n",
            "772/772 [==============================] - 3s 4ms/step - loss: 0.2638 - accuracy: 0.9260 - val_loss: 0.2608 - val_accuracy: 0.9272\n",
            "Epoch 16/20\n",
            "772/772 [==============================] - 2s 2ms/step - loss: 0.2638 - accuracy: 0.9260 - val_loss: 0.2608 - val_accuracy: 0.9272\n",
            "Epoch 17/20\n",
            "772/772 [==============================] - 2s 2ms/step - loss: 0.2638 - accuracy: 0.9260 - val_loss: 0.2608 - val_accuracy: 0.9272\n",
            "Epoch 18/20\n",
            "772/772 [==============================] - 2s 2ms/step - loss: 0.2638 - accuracy: 0.9260 - val_loss: 0.2608 - val_accuracy: 0.9272\n",
            "Epoch 19/20\n",
            "772/772 [==============================] - 2s 2ms/step - loss: 0.2638 - accuracy: 0.9260 - val_loss: 0.2608 - val_accuracy: 0.9272\n",
            "Epoch 20/20\n",
            "772/772 [==============================] - 2s 2ms/step - loss: 0.2638 - accuracy: 0.9260 - val_loss: 0.2608 - val_accuracy: 0.9272\n"
          ]
        },
        {
          "output_type": "execute_result",
          "data": {
            "text/plain": [
              "<keras.src.callbacks.History at 0x7e262ebdc6a0>"
            ]
          },
          "metadata": {},
          "execution_count": 39
        }
      ]
    },
    {
      "cell_type": "code",
      "source": [
        "# @title\n",
        "loss, accuracy = sepsismodel.evaluate(X_test, y_test)\n",
        "print(\"Test loss:\", loss)\n",
        "print(\"Test accuracy:\", accuracy)"
      ],
      "metadata": {
        "colab": {
          "base_uri": "https://localhost:8080/"
        },
        "cellView": "form",
        "id": "_3bw2l4B6pXe",
        "outputId": "1c060405-81f7-4548-e5ca-6a38502756c7"
      },
      "execution_count": 40,
      "outputs": [
        {
          "output_type": "stream",
          "name": "stdout",
          "text": [
            "517/517 [==============================] - 1s 2ms/step - loss: 0.2597 - accuracy: 0.9277\n",
            "Test loss: 0.25969189405441284\n",
            "Test accuracy: 0.9276511073112488\n"
          ]
        }
      ]
    },
    {
      "cell_type": "code",
      "source": [
        "# @title\n",
        "import numpy as np\n",
        "\n",
        "test_data = np.array([[22, 0, 1]])\n",
        "predictions = sepsismodel.predict(test_data)\n",
        "print(predictions * 100)"
      ],
      "metadata": {
        "colab": {
          "base_uri": "https://localhost:8080/"
        },
        "cellView": "form",
        "id": "f8rqGNox7jeF",
        "outputId": "5d0caecc-829a-48c8-833e-3fb7c31271c1"
      },
      "execution_count": 41,
      "outputs": [
        {
          "output_type": "stream",
          "name": "stdout",
          "text": [
            "1/1 [==============================] - 0s 89ms/step\n",
            "[[92.60588]]\n"
          ]
        }
      ]
    },
    {
      "cell_type": "code",
      "source": [
        "# @title\n",
        "#!pip install --upgrade ipywidgets\n"
      ],
      "metadata": {
        "collapsed": true,
        "id": "BSvDlIo27u7F"
      },
      "execution_count": 42,
      "outputs": []
    },
    {
      "cell_type": "code",
      "source": [
        "# @title\n",
        "import ipywidgets as widgets\n",
        "\n",
        "sex_buttons = widgets.RadioButtons(\n",
        "    options=[\"Male\", \"Female\"],\n",
        "    value=\"Male\",\n",
        "    layout={'width': 'max-content'},\n",
        "    description=\"Sex\",\n",
        "    disabled=False\n",
        ")\n",
        "\n",
        "age_slider = widgets.IntSlider(description=\"Age\", min=1, max=100, value=50)\n",
        "episode_slider = widgets.IntSlider(description=\"Episodes\", min=1, max=4, value=0)\n",
        "\n",
        "button = widgets.Button(description=\"Calculate\")\n",
        "\n",
        "\n",
        "\n",
        "widgets.VBox([sex_buttons, age_slider, episode_slider, button])"
      ],
      "metadata": {
        "colab": {
          "base_uri": "https://localhost:8080/",
          "height": 177,
          "referenced_widgets": [
            "e66a811dc80f4c83b567a9888a8b29e0",
            "b696ef9049594739a10b0db16d5903c6",
            "ea8cfbb0065a4478a7fa7d4cbcf2ef3f",
            "ec8e721f6fed4d73bdd092dc8728c62d",
            "d9fdf0f554a0485e8821db0a133d3eb5",
            "697fb946a1f04d1dab275990c0e3a2c7",
            "e8927e22d45546b0a648547c65f30a2f",
            "a3cf839daa9b4411b8e39fcdebc005aa",
            "4219abffc8a544eaad0dfe1139b5a253",
            "06b4140a00934405bfe467146a4101de",
            "90684b69cdac4456aef24ef7c12b2f69",
            "569d101abd8c4994aa89c468899e4705",
            "50782d6f4ca04f3f9fea7f2383833968",
            "fa6380ac88224b73b1d0e39c5c38fb5b"
          ]
        },
        "cellView": "form",
        "id": "-3qzR-wX70Cc",
        "outputId": "1ce398aa-036d-44af-eb5c-8ea1081f4819"
      },
      "execution_count": 43,
      "outputs": [
        {
          "output_type": "execute_result",
          "data": {
            "text/plain": [
              "VBox(children=(RadioButtons(description='Sex', layout=Layout(width='max-content'), options=('Male', 'Female'),…"
            ],
            "application/vnd.jupyter.widget-view+json": {
              "version_major": 2,
              "version_minor": 0,
              "model_id": "e66a811dc80f4c83b567a9888a8b29e0"
            }
          },
          "metadata": {},
          "execution_count": 43
        }
      ]
    }
  ]
}